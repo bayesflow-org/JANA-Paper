{
 "cells": [
  {
   "cell_type": "code",
   "execution_count": 1,
   "id": "2bd2daca-3c4a-4053-b247-f2df95ef3804",
   "metadata": {},
   "outputs": [],
   "source": [
    "import matplotlib.pyplot as plt\n",
    "from matplotlib.patches import Patch\n",
    "\n",
    "\n",
    "plt.rcParams.update(\n",
    "    {\n",
    "        \"axes.labelsize\": 20,\n",
    "        \"xtick.labelsize\": 16,\n",
    "        \"ytick.labelsize\": 16,\n",
    "        \"text.usetex\": True,\n",
    "        \"font.family\": \"serif\",\n",
    "        # \"font.serif\": [\"times\"],\n",
    "        \"text.latex.preamble\": r\"\\usepackage{{amsmath}}\",\n",
    "    }\n",
    ")"
   ]
  },
  {
   "cell_type": "code",
   "execution_count": 2,
   "id": "3a5276bd-7feb-4bcb-a3aa-afd8e90d67a0",
   "metadata": {},
   "outputs": [
    {
     "data": {
      "text/plain": [
       "<matplotlib.legend.Legend at 0x117d22a90>"
      ]
     },
     "execution_count": 2,
     "metadata": {},
     "output_type": "execute_result"
    },
    {
     "data": {
      "image/png": "[encoded data removed]",
      "text/plain": [
       "<Figure size 10x10 with 1 Axes>"
      ]
     },
     "metadata": {},
     "output_type": "display_data"
    }
   ],
   "source": [
    "plt.figure(figsize=(0.1, 0.1))\n",
    "plt.gca().set_axis_off()\n",
    "\n",
    "pa1 = plt.Line2D([], [], linestyle=\"dashed\", color=\"#000080\", alpha=0.9)\n",
    "pa2 = plt.Line2D([], [], linestyle=\"dashed\", color=\"#008000\", alpha=0.9)\n",
    "pa3 = plt.Line2D([], [], linestyle=\"dashed\", color=\"#800000\", alpha=0.9)\n",
    "#\n",
    "pb1 = Patch(facecolor=\"#000080\", edgecolor=None, alpha=0.5)\n",
    "pb2 = Patch(facecolor=\"#008000\", edgecolor=None, alpha=0.5)\n",
    "pb3 = Patch(facecolor=\"#800000\", edgecolor=None, alpha=0.5)\n",
    "#\n",
    "pc1 = Patch(facecolor=\"#000080\", edgecolor=None, alpha=0.25)\n",
    "pc2 = Patch(facecolor=\"#008000\", edgecolor=None, alpha=0.25)\n",
    "pc3 = Patch(facecolor=\"#800000\", edgecolor=None, alpha=0.25)\n",
    "\n",
    "plt.legend(\n",
    "    handles=[pa1, pb1, pc1, pa2, pb2, pc2, pa3, pb3, pc3],\n",
    "    labels=[\"\", \"\", \"\", \"\", \"\", \"\", \"Median\", \"50\\% CI\", \"95\\% CI\"],\n",
    "    ncol=3,\n",
    "    handletextpad=0.5,\n",
    "    handlelength=1.0,\n",
    "    columnspacing=-0.5,\n",
    "    loc=\"center\",\n",
    "    fontsize=16,\n",
    "    frameon=False,\n",
    ")"
   ]
  },
  {
   "cell_type": "code",
   "execution_count": 9,
   "id": "1b8c6d26-d7d9-4ec5-9f0d-b05e0c89a802",
   "metadata": {},
   "outputs": [
    {
     "data": {
      "image/png": "[encoded data removed]",
      "text/plain": [
       "<Figure size 200x30 with 1 Axes>"
      ]
     },
     "metadata": {},
     "output_type": "display_data"
    }
   ],
   "source": [
    "plt.figure(figsize=(2, 0.3))\n",
    "plt.gca().set_axis_off()\n",
    "\n",
    "pa1 = plt.Line2D([], [], linestyle=\"dashed\", color=\"#000080\", alpha=0.9, linewidth=3)\n",
    "pa2 = plt.Line2D([], [], linestyle=\"dashed\", color=\"#008000\", alpha=0.9, linewidth=3)\n",
    "pa3 = plt.Line2D([], [], linestyle=\"dashed\", color=\"#800000\", alpha=0.9, linewidth=3)\n",
    "\n",
    "plt.legend(\n",
    "    handles=[pa1, pa2, pa3],\n",
    "    labels=[\"\", \"\", \"Median\"],\n",
    "    ncol=3,\n",
    "    handletextpad=0.5,\n",
    "    handlelength=1.0,\n",
    "    columnspacing=-0.5,\n",
    "    loc=\"center\",\n",
    "    fontsize=16,\n",
    "    frameon=False,\n",
    ")\n",
    "plt.savefig(\"figures/legend_a.pdf\", dpi=300)"
   ]
  },
  {
   "cell_type": "code",
   "execution_count": 10,
   "id": "8e29547b-4d08-41d4-b885-5f773e12510e",
   "metadata": {},
   "outputs": [
    {
     "data": {
      "image/png": "[encoded data removed]",
      "text/plain": [
       "<Figure size 200x30 with 1 Axes>"
      ]
     },
     "metadata": {},
     "output_type": "display_data"
    }
   ],
   "source": [
    "plt.figure(figsize=(2, 0.3))\n",
    "plt.gca().set_axis_off()\n",
    "\n",
    "pb1 = Patch(facecolor=\"#000080\", edgecolor=None, alpha=0.5)\n",
    "pb2 = Patch(facecolor=\"#008000\", edgecolor=None, alpha=0.5)\n",
    "pb3 = Patch(facecolor=\"#800000\", edgecolor=None, alpha=0.5)\n",
    "\n",
    "plt.legend(\n",
    "    handles=[pb1, pb2, pb3],\n",
    "    labels=[\"\", \"\", \"50\\% CI\"],\n",
    "    ncol=3,\n",
    "    handletextpad=0.5,\n",
    "    handlelength=1.0,\n",
    "    columnspacing=-0.5,\n",
    "    loc=\"center\",\n",
    "    fontsize=16,\n",
    "    frameon=False,\n",
    ")\n",
    "plt.savefig(\"figures/legend_b.pdf\", dpi=300)"
   ]
  },
  {
   "cell_type": "code",
   "execution_count": 11,
   "id": "5472147f-7b8a-4b72-98ad-4b1c2d5cb888",
   "metadata": {},
   "outputs": [
    {
     "data": {
      "image/png": "[encoded data removed]",
      "text/plain": [
       "<Figure size 200x30 with 1 Axes>"
      ]
     },
     "metadata": {},
     "output_type": "display_data"
    }
   ],
   "source": [
    "plt.figure(figsize=(2, 0.3))\n",
    "plt.gca().set_axis_off()\n",
    "\n",
    "pc1 = Patch(facecolor=\"#000080\", edgecolor=None, alpha=0.25)\n",
    "pc2 = Patch(facecolor=\"#008000\", edgecolor=None, alpha=0.25)\n",
    "pc3 = Patch(facecolor=\"#800000\", edgecolor=None, alpha=0.25)\n",
    "\n",
    "plt.legend(\n",
    "    handles=[pc1, pc2, pc3],\n",
    "    labels=[\"\", \"\", \"95\\% CI\"],\n",
    "    ncol=3,\n",
    "    handletextpad=0.5,\n",
    "    handlelength=1.0,\n",
    "    columnspacing=-0.5,\n",
    "    loc=\"center\",\n",
    "    fontsize=16,\n",
    "    frameon=False,\n",
    ")\n",
    "plt.savefig(\"figures/legend_c.pdf\", dpi=300)"
   ]
  },
  {
   "cell_type": "code",
   "execution_count": null,
   "id": "23af0694-4021-4fae-89ea-8d8e80fdbc2f",
   "metadata": {},
   "outputs": [],
   "source": []
  }
 ],
 "metadata": {
  "kernelspec": {
   "display_name": "Python 3 (ipykernel)",
   "language": "python",
   "name": "python3"
  },
  "language_info": {
   "codemirror_mode": {
    "name": "ipython",
    "version": 3
   },
   "file_extension": ".py",
   "mimetype": "text/x-python",
   "name": "python",
   "nbconvert_exporter": "python",
   "pygments_lexer": "ipython3",
   "version": "3.9.15"
  }
 },
 "nbformat": 4,
 "nbformat_minor": 5
}
