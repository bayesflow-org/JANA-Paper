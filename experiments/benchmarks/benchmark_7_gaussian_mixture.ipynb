{
 "cells": [
  {
   "cell_type": "code",
   "execution_count": 1,
   "id": "sustained-world",
   "metadata": {
    "papermill": {
     "duration": 2.686206,
     "end_time": "2023-02-16T11:48:51.979725",
     "exception": false,
     "start_time": "2023-02-16T11:48:49.293519",
     "status": "completed"
    },
    "tags": []
   },
   "outputs": [],
   "source": [
    "import os\n",
    "import pickle\n",
    "\n",
    "import matplotlib.pyplot as plt\n",
    "import tensorflow as tf\n",
    "\n",
    "from bayesflow import benchmarks\n",
    "from bayesflow.amortizers import AmortizedPosterior, AmortizedLikelihood, AmortizedPosteriorLikelihood\n",
    "from bayesflow.networks import InvertibleNetwork\n",
    "from bayesflow.trainers import Trainer\n",
    "from bayesflow.diagnostics import plot_losses\n",
    "\n",
    "from custom_plots import plot_sbc_ecdf"
   ]
  },
  {
   "cell_type": "code",
   "execution_count": null,
   "id": "4c0e0e9b",
   "metadata": {},
   "outputs": [],
   "source": [
    "# Comment out, if you want tensorflow warnings\n",
    "os.environ['TF_CPP_MIN_LOG_LEVEL'] = '3' "
   ]
  },
  {
   "cell_type": "code",
   "execution_count": 3,
   "id": "48b66e38-856a-4615-a107-1b65e7486599",
   "metadata": {
    "papermill": {
     "duration": 0.00618,
     "end_time": "2023-02-16T11:48:52.193986",
     "exception": false,
     "start_time": "2023-02-16T11:48:52.187806",
     "status": "completed"
    },
    "tags": []
   },
   "outputs": [],
   "source": [
    "# Parameters for publication-ready main text plot (Figure 3)\n",
    "plt.rcParams.update({\n",
    "    \"axes.labelsize\" : 24,\n",
    "    \"xtick.labelsize\" : 16,\n",
    "    \"ytick.labelsize\" : 16,\n",
    "    \"legend.fontsize\": 24,\n",
    "    \"text.usetex\": False,\n",
    "    \"font.family\": \"serif\",\n",
    "    'text.latex.preamble' : r'\\usepackage{{amsmath}}'\n",
    "})"
   ]
  },
  {
   "attachments": {},
   "cell_type": "markdown",
   "id": "different-america",
   "metadata": {
    "papermill": {
     "duration": 0.0022,
     "end_time": "2023-02-16T11:48:52.198693",
     "exception": false,
     "start_time": "2023-02-16T11:48:52.196493",
     "status": "completed"
    },
    "tags": []
   },
   "source": [
    "# Benchmark: Gaussian Mixture"
   ]
  },
  {
   "cell_type": "code",
   "execution_count": 4,
   "id": "abandoned-supervisor",
   "metadata": {
    "papermill": {
     "duration": 0.008476,
     "end_time": "2023-02-16T11:48:52.209318",
     "exception": false,
     "start_time": "2023-02-16T11:48:52.200842",
     "status": "completed"
    },
    "tags": []
   },
   "outputs": [],
   "source": [
    "benchmark_name = 'gaussian_mixture'\n",
    "benchmark = benchmarks.Benchmark(benchmark_name)"
   ]
  },
  {
   "cell_type": "code",
   "execution_count": 5,
   "id": "d8b5adfb-bb8e-4097-98af-4a562f31a159",
   "metadata": {},
   "outputs": [],
   "source": [
    "def custom_configure(input_dict, preconfigured=False):\n",
    "    \"\"\"Scales down default prior range from [-10, 10] to [-1, 1].\n",
    "    Not necessary, but a good practice when working with NNs.\n",
    "    \"\"\"\n",
    "\n",
    "    if not preconfigured:\n",
    "        input_dict = benchmark.configurator(input_dict)\n",
    "    input_dict['posterior_inputs']['parameters'] /= 10\n",
    "    input_dict['likelihood_inputs']['conditions'] /= 10\n",
    "    return input_dict"
   ]
  },
  {
   "cell_type": "code",
   "execution_count": 6,
   "id": "limiting-syria",
   "metadata": {
    "papermill": {
     "duration": 0.372168,
     "end_time": "2023-02-16T11:48:52.583873",
     "exception": false,
     "start_time": "2023-02-16T11:48:52.211705",
     "status": "completed"
    },
    "tags": []
   },
   "outputs": [],
   "source": [
    "# Coupling settings\n",
    "settings = {\n",
    "    'dense_args': dict(units=64, activation='swish', kernel_regularizer=tf.keras.regularizers.l2(1e-4)),\n",
    "    'dropout_prob': 0.05,\n",
    "    'num_dense': 1\n",
    "}\n",
    "\n",
    "# Inference networks\n",
    "inference_net_p = InvertibleNetwork(\n",
    "    num_params=2, \n",
    "    num_coupling_layers=6,\n",
    "    permutation='learnable',\n",
    "    coupling_design='spline',\n",
    "    coupling_settings=settings,\n",
    ")\n",
    "\n",
    "inference_net_l = InvertibleNetwork(\n",
    "    num_params=2, \n",
    "    num_coupling_layers=6,\n",
    "    coupling_design='spline',\n",
    "    coupling_settings=settings,\n",
    ")\n",
    "\n",
    "# Amortizers\n",
    "amortized_posterior = AmortizedPosterior(\n",
    "    inference_net=inference_net_p,\n",
    ")\n",
    "\n",
    "amortized_likelihood = AmortizedLikelihood(\n",
    "    surrogate_net=inference_net_l\n",
    ")\n",
    "\n",
    "amortizer = AmortizedPosteriorLikelihood(\n",
    "    amortized_posterior, \n",
    "    amortized_likelihood\n",
    ")"
   ]
  },
  {
   "cell_type": "code",
   "execution_count": 7,
   "id": "ranging-symphony",
   "metadata": {
    "papermill": {
     "duration": 2.812478,
     "end_time": "2023-02-16T11:48:55.403556",
     "exception": false,
     "start_time": "2023-02-16T11:48:52.591078",
     "status": "completed"
    },
    "tags": []
   },
   "outputs": [],
   "source": [
    "trainer = Trainer(\n",
    "    amortizer=amortizer,\n",
    "    generative_model=benchmark.generative_model,\n",
    "    configurator=custom_configure,\n",
    "    checkpoint_path=f'checkpoints/{benchmark_name}',\n",
    "    memory=False,\n",
    "    max_to_keep=1\n",
    ")"
   ]
  },
  {
   "attachments": {},
   "cell_type": "markdown",
   "id": "7a445489-8e12-4ad9-933e-654e79b45f87",
   "metadata": {},
   "source": [
    "# Training\n",
    "Uncomment for training. Wall time on GPU approx. 41min 52s"
   ]
  },
  {
   "cell_type": "code",
   "execution_count": 8,
   "id": "72e47fd0-884a-4528-a8cf-2ed726587b10",
   "metadata": {
    "papermill": {
     "duration": 0.005447,
     "end_time": "2023-02-16T11:48:55.411746",
     "exception": false,
     "start_time": "2023-02-16T11:48:55.406299",
     "status": "completed"
    },
    "tags": []
   },
   "outputs": [],
   "source": [
    "# EPOCHS = 150\n",
    "# SIMULATION_BUDGET = 10000\n",
    "# N_VAL = 300\n",
    "# BATCH_SIZE = 64\n",
    "\n",
    "# train_data = trainer.generative_model(SIMULATION_BUDGET)"
   ]
  },
  {
   "cell_type": "code",
   "execution_count": 9,
   "id": "5531e0cd-9fc7-415d-9f3d-15fcfb860e45",
   "metadata": {},
   "outputs": [],
   "source": [
    "# %%time\n",
    "# h = trainer.train_offline(train_data, EPOCHS, BATCH_SIZE, validation_sims=N_VAL)"
   ]
  },
  {
   "attachments": {},
   "cell_type": "markdown",
   "id": "b2279799-08c4-4142-9b0f-149f295e1e8b",
   "metadata": {
    "papermill": {
     "duration": 0.002343,
     "end_time": "2023-02-16T11:48:55.416532",
     "exception": false,
     "start_time": "2023-02-16T11:48:55.414189",
     "status": "completed"
    },
    "tags": []
   },
   "source": [
    "# Validation"
   ]
  },
  {
   "attachments": {},
   "cell_type": "markdown",
   "id": "8cd4b414-1f17-4099-91bc-0b87232bd936",
   "metadata": {
    "papermill": {
     "duration": 0.00236,
     "end_time": "2023-02-16T11:48:55.421311",
     "exception": false,
     "start_time": "2023-02-16T11:48:55.418951",
     "status": "completed"
    },
    "tags": []
   },
   "source": [
    "## Loss Curves"
   ]
  },
  {
   "cell_type": "code",
   "execution_count": 10,
   "id": "423fa528-048d-49ed-94c6-a7c903cdedc3",
   "metadata": {},
   "outputs": [],
   "source": [
    "# # Use loaded history, since reference 'h' will only exist after training\n",
    "h = trainer.loss_history.get_plottable()\n",
    "f = plot_losses(h['train_losses'], h['val_losses'])"
   ]
  },
  {
   "cell_type": "code",
   "execution_count": 11,
   "id": "superb-halifax",
   "metadata": {
    "papermill": {
     "duration": 0.00597,
     "end_time": "2023-02-16T11:48:55.873549",
     "exception": false,
     "start_time": "2023-02-16T11:48:55.867579",
     "status": "completed"
    },
    "tags": []
   },
   "outputs": [],
   "source": [
    "# Load test data\n",
    "with open(f'test_data/{benchmark_name}_test.pkl', 'rb') as f:\n",
    "    test_dict = pickle.load(f)\n",
    "test_dict = custom_configure(test_dict, preconfigured=True)"
   ]
  },
  {
   "cell_type": "code",
   "execution_count": 12,
   "id": "nutritional-electric",
   "metadata": {
    "papermill": {
     "duration": 2.973061,
     "end_time": "2023-02-16T11:48:58.849048",
     "exception": false,
     "start_time": "2023-02-16T11:48:55.875987",
     "status": "completed"
    },
    "tags": []
   },
   "outputs": [],
   "source": [
    "# Simulate from surrogate simulator\n",
    "x_sim_s = amortizer.sample_data(test_dict, n_samples=1)\n",
    "x_sim_s = tf.squeeze(x_sim_s)\n",
    "\n",
    "# Sample from posteriors given surrogate outputs\n",
    "post_samples_s = amortizer.sample_parameters({'direct_conditions': x_sim_s}, n_samples=250)\n",
    "\n",
    "# Sample from posteriors given simulator outputs\n",
    "post_samples = amortizer.sample_parameters(test_dict, n_samples=250)\n",
    "\n",
    "# Prior samples\n",
    "prior_samples = test_dict['posterior_inputs']['parameters']"
   ]
  },
  {
   "cell_type": "code",
   "execution_count": 13,
   "id": "dd84ab9a-dffc-4f34-9f5b-9be41e43f6fa",
   "metadata": {},
   "outputs": [],
   "source": [
    "plt.rcParams.update({\n",
    "    \"text.usetex\": True,\n",
    "    \"font.family\": \"serif\",\n",
    "    'text.latex.preamble' : r'\\usepackage{{amsmath}}'\n",
    "})"
   ]
  },
  {
   "attachments": {},
   "cell_type": "markdown",
   "id": "e8d1931f-d3c8-4412-a9c2-31ca077d0d8b",
   "metadata": {
    "papermill": {
     "duration": 0.002403,
     "end_time": "2023-02-16T11:49:04.407468",
     "exception": false,
     "start_time": "2023-02-16T11:49:04.405065",
     "status": "completed"
    },
    "tags": []
   },
   "source": [
    "## Individual Calibration Plots"
   ]
  },
  {
   "cell_type": "code",
   "execution_count": 14,
   "id": "f4e60e16-a4be-43df-9ead-45a192c46347",
   "metadata": {
    "papermill": {
     "duration": 1.826205,
     "end_time": "2023-02-16T11:49:06.236019",
     "exception": false,
     "start_time": "2023-02-16T11:49:04.409814",
     "status": "completed"
    },
    "tags": []
   },
   "outputs": [],
   "source": [
    "# Posterior given surrogate outputs\n",
    "f = plot_sbc_ecdf(\n",
    "    post_samples, \n",
    "    prior_samples, \n",
    "    ecdf_bands_kwargs=dict(confidence=0.95), \n",
    "    label_fontsize=24,\n",
    "    legend_fontsize=16,\n",
    "    difference=True, \n",
    "    param_names=[r'$\\theta_1$:\\,X Location', r'$\\theta_2$:\\,Y Location'], \n",
    "    rank_ecdf_colors=['#000080', '#9999FF']\n",
    ")\n",
    "\n",
    "f.savefig(f'figures/{benchmark_name}_diff_ind_post.pdf', dpi=300, bbox_inches='tight')"
   ]
  },
  {
   "cell_type": "code",
   "execution_count": 15,
   "id": "4418da91-16d0-4abd-a5a3-3598fec9ef3d",
   "metadata": {
    "papermill": {
     "duration": 1.82899,
     "end_time": "2023-02-16T11:49:08.067758",
     "exception": false,
     "start_time": "2023-02-16T11:49:06.238768",
     "status": "completed"
    },
    "tags": []
   },
   "outputs": [],
   "source": [
    "# Posterior given surrogate outputs\n",
    "f = plot_sbc_ecdf(\n",
    "    post_samples_s,\n",
    "    prior_samples, \n",
    "    ecdf_bands_kwargs=dict(confidence=0.95), \n",
    "    label_fontsize=24, \n",
    "    legend_fontsize=16,\n",
    "    difference=True, \n",
    "    param_names=[r'$\\theta_1$:\\,X Location', r'$\\theta_2$:\\,Y Location'], \n",
    "    rank_ecdf_colors=['#800000', '#FF9999']\n",
    ")\n",
    "\n",
    "f.savefig(f'figures/{benchmark_name}_diff_ind_joint.pdf', dpi=300, bbox_inches='tight')"
   ]
  },
  {
   "attachments": {},
   "cell_type": "markdown",
   "id": "ca6d3e1c-c70c-4a60-bbbd-9510f0cb9784",
   "metadata": {
    "papermill": {
     "duration": 0.002319,
     "end_time": "2023-02-16T11:49:08.077331",
     "exception": false,
     "start_time": "2023-02-16T11:49:08.075012",
     "status": "completed"
    },
    "tags": []
   },
   "source": [
    "# Appendix Plots"
   ]
  },
  {
   "cell_type": "code",
   "execution_count": 16,
   "id": "d4c63602-cfe8-450c-bb31-107ce6bcc2cc",
   "metadata": {
    "papermill": {
     "duration": 0.006503,
     "end_time": "2023-02-16T11:49:08.086172",
     "exception": false,
     "start_time": "2023-02-16T11:49:08.079669",
     "status": "completed"
    },
    "tags": []
   },
   "outputs": [],
   "source": [
    "# load custom tighter plotting function\n",
    "from custom_plots import plot_sbc_ecdf_appendix\n",
    "\n",
    "# adjust for better readability\n",
    "plt.rcParams.update({\n",
    "    \"text.usetex\": False,\n",
    "    \"font.family\": \"serif\",\n",
    "    'text.latex.preamble' : r'\\usepackage{{amsmath}}'\n",
    "})"
   ]
  },
  {
   "attachments": {},
   "cell_type": "markdown",
   "id": "bdbeb2f7-a7e9-4dd2-97d0-2b34acc573e9",
   "metadata": {
    "papermill": {
     "duration": 0.002319,
     "end_time": "2023-02-16T11:49:08.091054",
     "exception": false,
     "start_time": "2023-02-16T11:49:08.088735",
     "status": "completed"
    },
    "tags": []
   },
   "source": [
    "### Loss History"
   ]
  },
  {
   "cell_type": "code",
   "execution_count": 17,
   "id": "49c27541-f73a-4467-b42e-140435870f12",
   "metadata": {
    "papermill": {
     "duration": 0.275849,
     "end_time": "2023-02-16T11:49:08.369631",
     "exception": false,
     "start_time": "2023-02-16T11:49:08.093782",
     "status": "completed"
    },
    "tags": []
   },
   "outputs": [],
   "source": [
    "# Use loaded history, since reference 'h' will only exist after training\n",
    "h = trainer.loss_history.get_plottable()\n",
    "f = plot_losses(h['train_losses'], h['val_losses'])\n",
    "plt.savefig(f\"figures/{benchmark_name}_losses.pdf\", dpi=300, bbox_inches=\"tight\")"
   ]
  },
  {
   "attachments": {},
   "cell_type": "markdown",
   "id": "e45456d8-e251-4fd6-b518-b1f417fc2e21",
   "metadata": {
    "papermill": {
     "duration": 0.002402,
     "end_time": "2023-02-16T11:49:08.374800",
     "exception": false,
     "start_time": "2023-02-16T11:49:08.372398",
     "status": "completed"
    },
    "tags": []
   },
   "source": [
    "### Posterior Calibration"
   ]
  },
  {
   "cell_type": "code",
   "execution_count": 18,
   "id": "b68796d3-0117-4855-9e1f-7109bf135818",
   "metadata": {
    "papermill": {
     "duration": 1.854993,
     "end_time": "2023-02-16T11:49:10.232135",
     "exception": false,
     "start_time": "2023-02-16T11:49:08.377142",
     "status": "completed"
    },
    "tags": []
   },
   "outputs": [],
   "source": [
    "f = plot_sbc_ecdf_appendix(\n",
    "    post_samples, \n",
    "    prior_samples, \n",
    "    ecdf_bands_kwargs=dict(confidence=0.95), \n",
    "    param_names=benchmark.benchmark_info['parameter_names'],\n",
    "    label_fontsize=24, \n",
    "    legend_fontsize=24, \n",
    "    difference=True, \n",
    "    rank_ecdf_color='#000080'\n",
    ")\n",
    "\n",
    "plt.savefig(f\"figures/{benchmark_name}_posterior_calibration_diff_separate.pdf\", dpi=300, bbox_inches=\"tight\")"
   ]
  },
  {
   "attachments": {},
   "cell_type": "markdown",
   "id": "172a3c4a-5d27-4e7f-9b77-6fcff14c40f6",
   "metadata": {
    "papermill": {
     "duration": 0.002365,
     "end_time": "2023-02-16T11:49:10.237234",
     "exception": false,
     "start_time": "2023-02-16T11:49:10.234869",
     "status": "completed"
    },
    "tags": []
   },
   "source": [
    "### Joint Calibration"
   ]
  },
  {
   "cell_type": "code",
   "execution_count": 19,
   "id": "32c74114-dd65-46ed-88c4-345692d7f25a",
   "metadata": {
    "papermill": {
     "duration": 1.847631,
     "end_time": "2023-02-16T11:49:12.087170",
     "exception": false,
     "start_time": "2023-02-16T11:49:10.239539",
     "status": "completed"
    },
    "tags": []
   },
   "outputs": [],
   "source": [
    "f = plot_sbc_ecdf_appendix(\n",
    "    post_samples_s, \n",
    "    prior_samples, \n",
    "    ecdf_bands_kwargs=dict(confidence=0.95), \n",
    "    param_names=benchmark.benchmark_info['parameter_names'],\n",
    "    label_fontsize=24, \n",
    "    legend_fontsize=24, \n",
    "    difference=True, \n",
    "    rank_ecdf_color='#800000'\n",
    ")\n",
    "\n",
    "plt.savefig(f\"figures/{benchmark_name}_joint_calibration_diff_separate.pdf\", dpi=300, bbox_inches=\"tight\")"
   ]
  }
 ],
 "metadata": {
  "environment": {
   "kernel": "python3",
   "name": "tf2-gpu.2-11.m108",
   "type": "gcloud",
   "uri": "gcr.io/deeplearning-platform-release/tf2-gpu.2-11:m108"
  },
  "kernelspec": {
   "display_name": "Python 3 (ipykernel)",
   "language": "python",
   "name": "python3"
  },
  "language_info": {
   "codemirror_mode": {
    "name": "ipython",
    "version": 3
   },
   "file_extension": ".py",
   "mimetype": "text/x-python",
   "name": "python",
   "nbconvert_exporter": "python",
   "pygments_lexer": "ipython3",
   "version": "3.10.11"
  },
  "papermill": {
   "default_parameters": {},
   "duration": 27.433838,
   "end_time": "2023-02-16T11:49:15.687765",
   "environment_variables": {},
   "exception": null,
   "input_path": "benchmark_7.ipynb",
   "output_path": "benchmark_7.ipynb",
   "parameters": {},
   "start_time": "2023-02-16T11:48:48.253927",
   "version": "2.3.4"
  },
  "toc": {
   "base_numbering": 1,
   "nav_menu": {},
   "number_sections": true,
   "sideBar": true,
   "skip_h1_title": false,
   "title_cell": "Table of Contents",
   "title_sidebar": "Contents",
   "toc_cell": false,
   "toc_position": {},
   "toc_section_display": true,
   "toc_window_display": false
  }
 },
 "nbformat": 4,
 "nbformat_minor": 5
}
